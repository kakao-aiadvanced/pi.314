{
  "nbformat": 4,
  "nbformat_minor": 0,
  "metadata": {
    "colab": {
      "provenance": []
    },
    "kernelspec": {
      "name": "python3",
      "display_name": "Python 3"
    },
    "language_info": {
      "name": "python"
    }
  },
  "cells": [
    {
      "cell_type": "code",
      "source": [
        "!pip install openai langchain langchain_community\n"
      ],
      "metadata": {
        "colab": {
          "base_uri": "https://localhost:8080/"
        },
        "collapsed": true,
        "id": "7BqKaJRP5FQU",
        "outputId": "0aa6d5c4-52d6-4d2e-f293-c4a77504277c"
      },
      "execution_count": null,
      "outputs": [
        {
          "output_type": "stream",
          "name": "stdout",
          "text": [
            "Requirement already satisfied: openai in /usr/local/lib/python3.11/dist-packages (1.66.5)\n",
            "Requirement already satisfied: langchain in /usr/local/lib/python3.11/dist-packages (0.3.21)\n",
            "Collecting langchain_community\n",
            "  Downloading langchain_community-0.3.20-py3-none-any.whl.metadata (2.4 kB)\n",
            "Requirement already satisfied: anyio<5,>=3.5.0 in /usr/local/lib/python3.11/dist-packages (from openai) (4.9.0)\n",
            "Requirement already satisfied: distro<2,>=1.7.0 in /usr/local/lib/python3.11/dist-packages (from openai) (1.9.0)\n",
            "Requirement already satisfied: httpx<1,>=0.23.0 in /usr/local/lib/python3.11/dist-packages (from openai) (0.28.1)\n",
            "Requirement already satisfied: jiter<1,>=0.4.0 in /usr/local/lib/python3.11/dist-packages (from openai) (0.9.0)\n",
            "Requirement already satisfied: pydantic<3,>=1.9.0 in /usr/local/lib/python3.11/dist-packages (from openai) (2.10.6)\n",
            "Requirement already satisfied: sniffio in /usr/local/lib/python3.11/dist-packages (from openai) (1.3.1)\n",
            "Requirement already satisfied: tqdm>4 in /usr/local/lib/python3.11/dist-packages (from openai) (4.67.1)\n",
            "Requirement already satisfied: typing-extensions<5,>=4.11 in /usr/local/lib/python3.11/dist-packages (from openai) (4.12.2)\n",
            "Requirement already satisfied: langchain-core<1.0.0,>=0.3.45 in /usr/local/lib/python3.11/dist-packages (from langchain) (0.3.46)\n",
            "Requirement already satisfied: langchain-text-splitters<1.0.0,>=0.3.7 in /usr/local/lib/python3.11/dist-packages (from langchain) (0.3.7)\n",
            "Requirement already satisfied: langsmith<0.4,>=0.1.17 in /usr/local/lib/python3.11/dist-packages (from langchain) (0.3.18)\n",
            "Requirement already satisfied: SQLAlchemy<3,>=1.4 in /usr/local/lib/python3.11/dist-packages (from langchain) (2.0.39)\n",
            "Requirement already satisfied: requests<3,>=2 in /usr/local/lib/python3.11/dist-packages (from langchain) (2.32.3)\n",
            "Requirement already satisfied: PyYAML>=5.3 in /usr/local/lib/python3.11/dist-packages (from langchain) (6.0.2)\n",
            "Requirement already satisfied: aiohttp<4.0.0,>=3.8.3 in /usr/local/lib/python3.11/dist-packages (from langchain_community) (3.11.14)\n",
            "Requirement already satisfied: tenacity!=8.4.0,<10,>=8.1.0 in /usr/local/lib/python3.11/dist-packages (from langchain_community) (9.0.0)\n",
            "Collecting dataclasses-json<0.7,>=0.5.7 (from langchain_community)\n",
            "  Downloading dataclasses_json-0.6.7-py3-none-any.whl.metadata (25 kB)\n",
            "Collecting pydantic-settings<3.0.0,>=2.4.0 (from langchain_community)\n",
            "  Downloading pydantic_settings-2.8.1-py3-none-any.whl.metadata (3.5 kB)\n",
            "Collecting httpx-sse<1.0.0,>=0.4.0 (from langchain_community)\n",
            "  Downloading httpx_sse-0.4.0-py3-none-any.whl.metadata (9.0 kB)\n",
            "Requirement already satisfied: numpy<3,>=1.26.2 in /usr/local/lib/python3.11/dist-packages (from langchain_community) (2.0.2)\n",
            "Requirement already satisfied: aiohappyeyeballs>=2.3.0 in /usr/local/lib/python3.11/dist-packages (from aiohttp<4.0.0,>=3.8.3->langchain_community) (2.6.1)\n",
            "Requirement already satisfied: aiosignal>=1.1.2 in /usr/local/lib/python3.11/dist-packages (from aiohttp<4.0.0,>=3.8.3->langchain_community) (1.3.2)\n",
            "Requirement already satisfied: attrs>=17.3.0 in /usr/local/lib/python3.11/dist-packages (from aiohttp<4.0.0,>=3.8.3->langchain_community) (25.3.0)\n",
            "Requirement already satisfied: frozenlist>=1.1.1 in /usr/local/lib/python3.11/dist-packages (from aiohttp<4.0.0,>=3.8.3->langchain_community) (1.5.0)\n",
            "Requirement already satisfied: multidict<7.0,>=4.5 in /usr/local/lib/python3.11/dist-packages (from aiohttp<4.0.0,>=3.8.3->langchain_community) (6.2.0)\n",
            "Requirement already satisfied: propcache>=0.2.0 in /usr/local/lib/python3.11/dist-packages (from aiohttp<4.0.0,>=3.8.3->langchain_community) (0.3.0)\n",
            "Requirement already satisfied: yarl<2.0,>=1.17.0 in /usr/local/lib/python3.11/dist-packages (from aiohttp<4.0.0,>=3.8.3->langchain_community) (1.18.3)\n",
            "Requirement already satisfied: idna>=2.8 in /usr/local/lib/python3.11/dist-packages (from anyio<5,>=3.5.0->openai) (3.10)\n",
            "Collecting marshmallow<4.0.0,>=3.18.0 (from dataclasses-json<0.7,>=0.5.7->langchain_community)\n",
            "  Downloading marshmallow-3.26.1-py3-none-any.whl.metadata (7.3 kB)\n",
            "Collecting typing-inspect<1,>=0.4.0 (from dataclasses-json<0.7,>=0.5.7->langchain_community)\n",
            "  Downloading typing_inspect-0.9.0-py3-none-any.whl.metadata (1.5 kB)\n",
            "Requirement already satisfied: certifi in /usr/local/lib/python3.11/dist-packages (from httpx<1,>=0.23.0->openai) (2025.1.31)\n",
            "Requirement already satisfied: httpcore==1.* in /usr/local/lib/python3.11/dist-packages (from httpx<1,>=0.23.0->openai) (1.0.7)\n",
            "Requirement already satisfied: h11<0.15,>=0.13 in /usr/local/lib/python3.11/dist-packages (from httpcore==1.*->httpx<1,>=0.23.0->openai) (0.14.0)\n",
            "Requirement already satisfied: jsonpatch<2.0,>=1.33 in /usr/local/lib/python3.11/dist-packages (from langchain-core<1.0.0,>=0.3.45->langchain) (1.33)\n",
            "Requirement already satisfied: packaging<25,>=23.2 in /usr/local/lib/python3.11/dist-packages (from langchain-core<1.0.0,>=0.3.45->langchain) (24.2)\n",
            "Requirement already satisfied: orjson<4.0.0,>=3.9.14 in /usr/local/lib/python3.11/dist-packages (from langsmith<0.4,>=0.1.17->langchain) (3.10.15)\n",
            "Requirement already satisfied: requests-toolbelt<2.0.0,>=1.0.0 in /usr/local/lib/python3.11/dist-packages (from langsmith<0.4,>=0.1.17->langchain) (1.0.0)\n",
            "Requirement already satisfied: zstandard<0.24.0,>=0.23.0 in /usr/local/lib/python3.11/dist-packages (from langsmith<0.4,>=0.1.17->langchain) (0.23.0)\n",
            "Requirement already satisfied: annotated-types>=0.6.0 in /usr/local/lib/python3.11/dist-packages (from pydantic<3,>=1.9.0->openai) (0.7.0)\n",
            "Requirement already satisfied: pydantic-core==2.27.2 in /usr/local/lib/python3.11/dist-packages (from pydantic<3,>=1.9.0->openai) (2.27.2)\n",
            "Collecting python-dotenv>=0.21.0 (from pydantic-settings<3.0.0,>=2.4.0->langchain_community)\n",
            "  Downloading python_dotenv-1.0.1-py3-none-any.whl.metadata (23 kB)\n",
            "Requirement already satisfied: charset-normalizer<4,>=2 in /usr/local/lib/python3.11/dist-packages (from requests<3,>=2->langchain) (3.4.1)\n",
            "Requirement already satisfied: urllib3<3,>=1.21.1 in /usr/local/lib/python3.11/dist-packages (from requests<3,>=2->langchain) (2.3.0)\n",
            "Requirement already satisfied: greenlet!=0.4.17 in /usr/local/lib/python3.11/dist-packages (from SQLAlchemy<3,>=1.4->langchain) (3.1.1)\n",
            "Requirement already satisfied: jsonpointer>=1.9 in /usr/local/lib/python3.11/dist-packages (from jsonpatch<2.0,>=1.33->langchain-core<1.0.0,>=0.3.45->langchain) (3.0.0)\n",
            "Collecting mypy-extensions>=0.3.0 (from typing-inspect<1,>=0.4.0->dataclasses-json<0.7,>=0.5.7->langchain_community)\n",
            "  Downloading mypy_extensions-1.0.0-py3-none-any.whl.metadata (1.1 kB)\n",
            "Downloading langchain_community-0.3.20-py3-none-any.whl (2.5 MB)\n",
            "\u001b[2K   \u001b[90m━━━━━━━━━━━━━━━━━━━━━━━━━━━━━━━━━━━━━━━━\u001b[0m \u001b[32m2.5/2.5 MB\u001b[0m \u001b[31m28.8 MB/s\u001b[0m eta \u001b[36m0:00:00\u001b[0m\n",
            "\u001b[?25hDownloading dataclasses_json-0.6.7-py3-none-any.whl (28 kB)\n",
            "Downloading httpx_sse-0.4.0-py3-none-any.whl (7.8 kB)\n",
            "Downloading pydantic_settings-2.8.1-py3-none-any.whl (30 kB)\n",
            "Downloading marshmallow-3.26.1-py3-none-any.whl (50 kB)\n",
            "\u001b[2K   \u001b[90m━━━━━━━━━━━━━━━━━━━━━━━━━━━━━━━━━━━━━━━━\u001b[0m \u001b[32m50.9/50.9 kB\u001b[0m \u001b[31m3.2 MB/s\u001b[0m eta \u001b[36m0:00:00\u001b[0m\n",
            "\u001b[?25hDownloading python_dotenv-1.0.1-py3-none-any.whl (19 kB)\n",
            "Downloading typing_inspect-0.9.0-py3-none-any.whl (8.8 kB)\n",
            "Downloading mypy_extensions-1.0.0-py3-none-any.whl (4.7 kB)\n",
            "Installing collected packages: python-dotenv, mypy-extensions, marshmallow, httpx-sse, typing-inspect, pydantic-settings, dataclasses-json, langchain_community\n",
            "Successfully installed dataclasses-json-0.6.7 httpx-sse-0.4.0 langchain_community-0.3.20 marshmallow-3.26.1 mypy-extensions-1.0.0 pydantic-settings-2.8.1 python-dotenv-1.0.1 typing-inspect-0.9.0\n"
          ]
        }
      ]
    },
    {
      "cell_type": "code",
      "source": [
        "import getpass\n",
        "import os\n",
        "\n",
        "os.environ[\"OPENAI_API_KEY\"] = getpass.getpass()"
      ],
      "metadata": {
        "colab": {
          "base_uri": "https://localhost:8080/"
        },
        "id": "lK4rsYJk5jMw",
        "outputId": "92055bf7-af27-434a-d6e9-a4744cc696e2"
      },
      "execution_count": null,
      "outputs": [
        {
          "name": "stdout",
          "output_type": "stream",
          "text": [
            "··········\n"
          ]
        }
      ]
    },
    {
      "cell_type": "code",
      "execution_count": null,
      "metadata": {
        "colab": {
          "base_uri": "https://localhost:8080/"
        },
        "id": "ogTiwZ3h1kG0",
        "outputId": "d1837c5e-9c4b-4360-d7fe-2ad7e6ca3854"
      },
      "outputs": [
        {
          "output_type": "stream",
          "name": "stderr",
          "text": [
            "WARNING:langchain_community.utils.user_agent:USER_AGENT environment variable not set, consider setting it to identify your requests.\n"
          ]
        }
      ],
      "source": [
        "from langchain_community.document_loaders import WebBaseLoader\n",
        "\n",
        "loader = WebBaseLoader(\"https://www.espn.com/\")"
      ]
    },
    {
      "cell_type": "code",
      "source": [],
      "metadata": {
        "id": "lLYpmvkbkHLm"
      },
      "execution_count": null,
      "outputs": []
    },
    {
      "cell_type": "markdown",
      "source": [
        "# Day2- RAG로 캠페인의 광고 도달 분석하기"
      ],
      "metadata": {
        "id": "vSPQxfsXkWQn"
      }
    },
    {
      "cell_type": "code",
      "source": [
        "from openai import OpenAI\n",
        "\n",
        "def query_open_api(input_text, system_q='You are a helpful assistant.'):\n",
        "  client = OpenAI()\n",
        "  completion = client.chat.completions.create(\n",
        "    model=\"gpt-4o\",\n",
        "    messages=[\n",
        "        {\"role\": \"system\", \"content\": system_q},\n",
        "        {\n",
        "            \"role\": \"user\",\n",
        "            \"content\": input_text\n",
        "        }\n",
        "    ]\n",
        "  )\n",
        "  return completion.choices[0].message.content\n"
      ],
      "metadata": {
        "id": "Z1rEz_ufix3H"
      },
      "execution_count": null,
      "outputs": []
    },
    {
      "cell_type": "markdown",
      "source": [],
      "metadata": {
        "id": "zM8P0kFVcSZU"
      }
    },
    {
      "cell_type": "code",
      "source": [
        "import pandas as pd"
      ],
      "metadata": {
        "id": "j72pTVRi4jFc"
      },
      "execution_count": null,
      "outputs": []
    },
    {
      "cell_type": "code",
      "source": [
        "# prompt: pandas dataframe을 openapi prompt 데이터로 변환하는 코드 생성해줘\n",
        "\n",
        "def df_to_openapi_prompt(df, desc_data, query):\n",
        "  \"\"\"Converts a Pandas DataFrame into an OpenAPI prompt suitable for GPT-4.\n",
        "\n",
        "  Args:\n",
        "    df: The Pandas DataFrame to convert.\n",
        "\n",
        "  Returns:\n",
        "    A string representing the OpenAPI prompt.\n",
        "  \"\"\"\n",
        "\n",
        "  table_data = df.to_string()\n",
        "  prompt = f\"\"\"\n",
        "  You are a helpful assistant that can answer questions based on provided data.\n",
        "  {desc_data}\n",
        "\n",
        "  **Table Data:**\n",
        "  {table_data}\n",
        "\n",
        "  Query: {query}\n",
        "  \"\"\"\n",
        "\n",
        "  return prompt\n",
        "\n",
        "\n",
        "def data_to_openapi_prompt(data_string, desc_data, query):\n",
        "  \"\"\"Converts a Pandas DataFrame into an OpenAPI prompt suitable for GPT-4.\n",
        "\n",
        "  Args:\n",
        "    df: The Pandas DataFrame to convert.\n",
        "\n",
        "  Returns:\n",
        "    A string representing the OpenAPI prompt.\n",
        "  \"\"\"\n",
        "\n",
        "  prompt = f\"\"\"\n",
        "  You are a helpful assistant that can answer questions based on provided data.\n",
        "  {desc_data}\n",
        "\n",
        "  ** Data:**\n",
        "  {data_string}\n",
        "\n",
        "  Query: {query}\n",
        "  \"\"\"\n",
        "\n",
        "  return prompt"
      ],
      "metadata": {
        "id": "q-YLrphYHoPt"
      },
      "execution_count": null,
      "outputs": []
    },
    {
      "cell_type": "code",
      "source": [
        "reach_ds = pd.read_csv('medicube_user_reach_90d_20250310_20250310_name.tsv')\n",
        "# prompt: reach_ds DataFrame 사용:  컬럼명을 읽기 쉬운 것으로 생성해줘\n",
        "\n",
        "# 컬럼명 변경\n",
        "new_column_names = {\n",
        "    'Unnamed: 0': 'index',\n",
        "    'type_bit': 'type_code',\n",
        "    'users': 'user_count',\n",
        "    'trigger_impressions': 'trigger_impression_count',\n",
        "    'impressions': 'impression_count',\n",
        "    'clicks': 'click_count',\n",
        "    'conversions': 'conversion_count',\n",
        "    '광고활동': 'campaign_access_info'\n",
        "}\n",
        "\n",
        "reach_ds.rename(columns=new_column_names, inplace=True)\n",
        "reach_ds.campaign_access_info = reach_ds.campaign_access_info.apply(lambda x: x.replace('신규', '캠페인'))"
      ],
      "metadata": {
        "id": "541ZWU59gZDU"
      },
      "execution_count": null,
      "outputs": []
    },
    {
      "cell_type": "code",
      "source": [
        "reach_ds.groupby('only_campaign').agg({'user_count':sum}).sort_values('user_count', ascending=False)"
      ],
      "metadata": {
        "colab": {
          "base_uri": "https://localhost:8080/",
          "height": 512
        },
        "id": "QgeKPdNQg9XH",
        "outputId": "34522d21-e9a0-4efe-9e2a-4345a7e751ec"
      },
      "execution_count": null,
      "outputs": [
        {
          "output_type": "stream",
          "name": "stderr",
          "text": [
            "<ipython-input-257-70c53ebe268f>:1: FutureWarning: The provided callable <built-in function sum> is currently using SeriesGroupBy.sum. In a future version of pandas, the provided callable will be used directly. To keep current behavior pass the string \"sum\" instead.\n",
            "  reach_ds.groupby('only_campaign').agg({'user_count':sum}).sort_values('user_count', ascending=False)\n"
          ]
        },
        {
          "output_type": "execute_result",
          "data": {
            "text/plain": [
              "                                    user_count\n",
              "only_campaign                                 \n",
              "이전광고노출                                 9431718\n",
              "캠페인도달 AND 이전광고노출                       9259753\n",
              "캠페인도달                                  5656618\n",
              "                                       2515276\n",
              "캠페인도달 AND 광고클릭 AND 이전광고노출                78129\n",
              "캠페인도달 AND 광고클릭                           28667\n",
              "캠페인도달 AND 광고전환 AND 이전광고노출                  507\n",
              "광고클릭 AND 이전광고노출                            347\n",
              "캠페인도달 AND 광고클릭 AND 광고전환 AND 이전광고노출         326\n",
              "광고클릭                                       272\n",
              "광고전환 AND 이전광고노출                            221\n",
              "캠페인도달 AND 광고클릭 AND 광고전환                     36"
            ],
            "text/html": [
              "\n",
              "  <div id=\"df-2a945627-a65e-4561-9a5e-14f565618b20\" class=\"colab-df-container\">\n",
              "    <div>\n",
              "<style scoped>\n",
              "    .dataframe tbody tr th:only-of-type {\n",
              "        vertical-align: middle;\n",
              "    }\n",
              "\n",
              "    .dataframe tbody tr th {\n",
              "        vertical-align: top;\n",
              "    }\n",
              "\n",
              "    .dataframe thead th {\n",
              "        text-align: right;\n",
              "    }\n",
              "</style>\n",
              "<table border=\"1\" class=\"dataframe\">\n",
              "  <thead>\n",
              "    <tr style=\"text-align: right;\">\n",
              "      <th></th>\n",
              "      <th>user_count</th>\n",
              "    </tr>\n",
              "    <tr>\n",
              "      <th>only_campaign</th>\n",
              "      <th></th>\n",
              "    </tr>\n",
              "  </thead>\n",
              "  <tbody>\n",
              "    <tr>\n",
              "      <th>이전광고노출</th>\n",
              "      <td>9431718</td>\n",
              "    </tr>\n",
              "    <tr>\n",
              "      <th>캠페인도달 AND 이전광고노출</th>\n",
              "      <td>9259753</td>\n",
              "    </tr>\n",
              "    <tr>\n",
              "      <th>캠페인도달</th>\n",
              "      <td>5656618</td>\n",
              "    </tr>\n",
              "    <tr>\n",
              "      <th></th>\n",
              "      <td>2515276</td>\n",
              "    </tr>\n",
              "    <tr>\n",
              "      <th>캠페인도달 AND 광고클릭 AND 이전광고노출</th>\n",
              "      <td>78129</td>\n",
              "    </tr>\n",
              "    <tr>\n",
              "      <th>캠페인도달 AND 광고클릭</th>\n",
              "      <td>28667</td>\n",
              "    </tr>\n",
              "    <tr>\n",
              "      <th>캠페인도달 AND 광고전환 AND 이전광고노출</th>\n",
              "      <td>507</td>\n",
              "    </tr>\n",
              "    <tr>\n",
              "      <th>광고클릭 AND 이전광고노출</th>\n",
              "      <td>347</td>\n",
              "    </tr>\n",
              "    <tr>\n",
              "      <th>캠페인도달 AND 광고클릭 AND 광고전환 AND 이전광고노출</th>\n",
              "      <td>326</td>\n",
              "    </tr>\n",
              "    <tr>\n",
              "      <th>광고클릭</th>\n",
              "      <td>272</td>\n",
              "    </tr>\n",
              "    <tr>\n",
              "      <th>광고전환 AND 이전광고노출</th>\n",
              "      <td>221</td>\n",
              "    </tr>\n",
              "    <tr>\n",
              "      <th>캠페인도달 AND 광고클릭 AND 광고전환</th>\n",
              "      <td>36</td>\n",
              "    </tr>\n",
              "  </tbody>\n",
              "</table>\n",
              "</div>\n",
              "    <div class=\"colab-df-buttons\">\n",
              "\n",
              "  <div class=\"colab-df-container\">\n",
              "    <button class=\"colab-df-convert\" onclick=\"convertToInteractive('df-2a945627-a65e-4561-9a5e-14f565618b20')\"\n",
              "            title=\"Convert this dataframe to an interactive table.\"\n",
              "            style=\"display:none;\">\n",
              "\n",
              "  <svg xmlns=\"http://www.w3.org/2000/svg\" height=\"24px\" viewBox=\"0 -960 960 960\">\n",
              "    <path d=\"M120-120v-720h720v720H120Zm60-500h600v-160H180v160Zm220 220h160v-160H400v160Zm0 220h160v-160H400v160ZM180-400h160v-160H180v160Zm440 0h160v-160H620v160ZM180-180h160v-160H180v160Zm440 0h160v-160H620v160Z\"/>\n",
              "  </svg>\n",
              "    </button>\n",
              "\n",
              "  <style>\n",
              "    .colab-df-container {\n",
              "      display:flex;\n",
              "      gap: 12px;\n",
              "    }\n",
              "\n",
              "    .colab-df-convert {\n",
              "      background-color: #E8F0FE;\n",
              "      border: none;\n",
              "      border-radius: 50%;\n",
              "      cursor: pointer;\n",
              "      display: none;\n",
              "      fill: #1967D2;\n",
              "      height: 32px;\n",
              "      padding: 0 0 0 0;\n",
              "      width: 32px;\n",
              "    }\n",
              "\n",
              "    .colab-df-convert:hover {\n",
              "      background-color: #E2EBFA;\n",
              "      box-shadow: 0px 1px 2px rgba(60, 64, 67, 0.3), 0px 1px 3px 1px rgba(60, 64, 67, 0.15);\n",
              "      fill: #174EA6;\n",
              "    }\n",
              "\n",
              "    .colab-df-buttons div {\n",
              "      margin-bottom: 4px;\n",
              "    }\n",
              "\n",
              "    [theme=dark] .colab-df-convert {\n",
              "      background-color: #3B4455;\n",
              "      fill: #D2E3FC;\n",
              "    }\n",
              "\n",
              "    [theme=dark] .colab-df-convert:hover {\n",
              "      background-color: #434B5C;\n",
              "      box-shadow: 0px 1px 3px 1px rgba(0, 0, 0, 0.15);\n",
              "      filter: drop-shadow(0px 1px 2px rgba(0, 0, 0, 0.3));\n",
              "      fill: #FFFFFF;\n",
              "    }\n",
              "  </style>\n",
              "\n",
              "    <script>\n",
              "      const buttonEl =\n",
              "        document.querySelector('#df-2a945627-a65e-4561-9a5e-14f565618b20 button.colab-df-convert');\n",
              "      buttonEl.style.display =\n",
              "        google.colab.kernel.accessAllowed ? 'block' : 'none';\n",
              "\n",
              "      async function convertToInteractive(key) {\n",
              "        const element = document.querySelector('#df-2a945627-a65e-4561-9a5e-14f565618b20');\n",
              "        const dataTable =\n",
              "          await google.colab.kernel.invokeFunction('convertToInteractive',\n",
              "                                                    [key], {});\n",
              "        if (!dataTable) return;\n",
              "\n",
              "        const docLinkHtml = 'Like what you see? Visit the ' +\n",
              "          '<a target=\"_blank\" href=https://colab.research.google.com/notebooks/data_table.ipynb>data table notebook</a>'\n",
              "          + ' to learn more about interactive tables.';\n",
              "        element.innerHTML = '';\n",
              "        dataTable['output_type'] = 'display_data';\n",
              "        await google.colab.output.renderOutput(dataTable, element);\n",
              "        const docLink = document.createElement('div');\n",
              "        docLink.innerHTML = docLinkHtml;\n",
              "        element.appendChild(docLink);\n",
              "      }\n",
              "    </script>\n",
              "  </div>\n",
              "\n",
              "\n",
              "<div id=\"df-d47b378c-9e04-4ed2-b927-b69a246de7c9\">\n",
              "  <button class=\"colab-df-quickchart\" onclick=\"quickchart('df-d47b378c-9e04-4ed2-b927-b69a246de7c9')\"\n",
              "            title=\"Suggest charts\"\n",
              "            style=\"display:none;\">\n",
              "\n",
              "<svg xmlns=\"http://www.w3.org/2000/svg\" height=\"24px\"viewBox=\"0 0 24 24\"\n",
              "     width=\"24px\">\n",
              "    <g>\n",
              "        <path d=\"M19 3H5c-1.1 0-2 .9-2 2v14c0 1.1.9 2 2 2h14c1.1 0 2-.9 2-2V5c0-1.1-.9-2-2-2zM9 17H7v-7h2v7zm4 0h-2V7h2v10zm4 0h-2v-4h2v4z\"/>\n",
              "    </g>\n",
              "</svg>\n",
              "  </button>\n",
              "\n",
              "<style>\n",
              "  .colab-df-quickchart {\n",
              "      --bg-color: #E8F0FE;\n",
              "      --fill-color: #1967D2;\n",
              "      --hover-bg-color: #E2EBFA;\n",
              "      --hover-fill-color: #174EA6;\n",
              "      --disabled-fill-color: #AAA;\n",
              "      --disabled-bg-color: #DDD;\n",
              "  }\n",
              "\n",
              "  [theme=dark] .colab-df-quickchart {\n",
              "      --bg-color: #3B4455;\n",
              "      --fill-color: #D2E3FC;\n",
              "      --hover-bg-color: #434B5C;\n",
              "      --hover-fill-color: #FFFFFF;\n",
              "      --disabled-bg-color: #3B4455;\n",
              "      --disabled-fill-color: #666;\n",
              "  }\n",
              "\n",
              "  .colab-df-quickchart {\n",
              "    background-color: var(--bg-color);\n",
              "    border: none;\n",
              "    border-radius: 50%;\n",
              "    cursor: pointer;\n",
              "    display: none;\n",
              "    fill: var(--fill-color);\n",
              "    height: 32px;\n",
              "    padding: 0;\n",
              "    width: 32px;\n",
              "  }\n",
              "\n",
              "  .colab-df-quickchart:hover {\n",
              "    background-color: var(--hover-bg-color);\n",
              "    box-shadow: 0 1px 2px rgba(60, 64, 67, 0.3), 0 1px 3px 1px rgba(60, 64, 67, 0.15);\n",
              "    fill: var(--button-hover-fill-color);\n",
              "  }\n",
              "\n",
              "  .colab-df-quickchart-complete:disabled,\n",
              "  .colab-df-quickchart-complete:disabled:hover {\n",
              "    background-color: var(--disabled-bg-color);\n",
              "    fill: var(--disabled-fill-color);\n",
              "    box-shadow: none;\n",
              "  }\n",
              "\n",
              "  .colab-df-spinner {\n",
              "    border: 2px solid var(--fill-color);\n",
              "    border-color: transparent;\n",
              "    border-bottom-color: var(--fill-color);\n",
              "    animation:\n",
              "      spin 1s steps(1) infinite;\n",
              "  }\n",
              "\n",
              "  @keyframes spin {\n",
              "    0% {\n",
              "      border-color: transparent;\n",
              "      border-bottom-color: var(--fill-color);\n",
              "      border-left-color: var(--fill-color);\n",
              "    }\n",
              "    20% {\n",
              "      border-color: transparent;\n",
              "      border-left-color: var(--fill-color);\n",
              "      border-top-color: var(--fill-color);\n",
              "    }\n",
              "    30% {\n",
              "      border-color: transparent;\n",
              "      border-left-color: var(--fill-color);\n",
              "      border-top-color: var(--fill-color);\n",
              "      border-right-color: var(--fill-color);\n",
              "    }\n",
              "    40% {\n",
              "      border-color: transparent;\n",
              "      border-right-color: var(--fill-color);\n",
              "      border-top-color: var(--fill-color);\n",
              "    }\n",
              "    60% {\n",
              "      border-color: transparent;\n",
              "      border-right-color: var(--fill-color);\n",
              "    }\n",
              "    80% {\n",
              "      border-color: transparent;\n",
              "      border-right-color: var(--fill-color);\n",
              "      border-bottom-color: var(--fill-color);\n",
              "    }\n",
              "    90% {\n",
              "      border-color: transparent;\n",
              "      border-bottom-color: var(--fill-color);\n",
              "    }\n",
              "  }\n",
              "</style>\n",
              "\n",
              "  <script>\n",
              "    async function quickchart(key) {\n",
              "      const quickchartButtonEl =\n",
              "        document.querySelector('#' + key + ' button');\n",
              "      quickchartButtonEl.disabled = true;  // To prevent multiple clicks.\n",
              "      quickchartButtonEl.classList.add('colab-df-spinner');\n",
              "      try {\n",
              "        const charts = await google.colab.kernel.invokeFunction(\n",
              "            'suggestCharts', [key], {});\n",
              "      } catch (error) {\n",
              "        console.error('Error during call to suggestCharts:', error);\n",
              "      }\n",
              "      quickchartButtonEl.classList.remove('colab-df-spinner');\n",
              "      quickchartButtonEl.classList.add('colab-df-quickchart-complete');\n",
              "    }\n",
              "    (() => {\n",
              "      let quickchartButtonEl =\n",
              "        document.querySelector('#df-d47b378c-9e04-4ed2-b927-b69a246de7c9 button');\n",
              "      quickchartButtonEl.style.display =\n",
              "        google.colab.kernel.accessAllowed ? 'block' : 'none';\n",
              "    })();\n",
              "  </script>\n",
              "</div>\n",
              "\n",
              "    </div>\n",
              "  </div>\n"
            ],
            "application/vnd.google.colaboratory.intrinsic+json": {
              "type": "dataframe",
              "summary": "{\n  \"name\": \"reach_ds\",\n  \"rows\": 12,\n  \"fields\": [\n    {\n      \"column\": \"only_campaign\",\n      \"properties\": {\n        \"dtype\": \"string\",\n        \"num_unique_values\": 12,\n        \"samples\": [\n          \"\\uad11\\uace0\\uc804\\ud658 AND \\uc774\\uc804\\uad11\\uace0\\ub178\\ucd9c\",\n          \"\\uad11\\uace0\\ud074\\ub9ad\",\n          \"\\uc774\\uc804\\uad11\\uace0\\ub178\\ucd9c\"\n        ],\n        \"semantic_type\": \"\",\n        \"description\": \"\"\n      }\n    },\n    {\n      \"column\": \"user_count\",\n      \"properties\": {\n        \"dtype\": \"number\",\n        \"std\": 3722263,\n        \"min\": 36,\n        \"max\": 9431718,\n        \"num_unique_values\": 12,\n        \"samples\": [\n          221,\n          272,\n          9431718\n        ],\n        \"semantic_type\": \"\",\n        \"description\": \"\"\n      }\n    }\n  ]\n}"
            }
          },
          "metadata": {},
          "execution_count": 257
        }
      ]
    },
    {
      "cell_type": "code",
      "source": [
        "q = (df_to_openapi_prompt(reach_ds[['campaign_access_info', 'user_count']],\n",
        "                          \"메디큐브의 보장형 광고 집행 데이터이고, 이전 광고가 도달까지 포함 된 정보이다.\",\n",
        "                          \"캠페인이 광고 도달의 기여 효과를 설명해줘\"))\n",
        "print(q)"
      ],
      "metadata": {
        "colab": {
          "base_uri": "https://localhost:8080/"
        },
        "collapsed": true,
        "id": "wm55wuNwf6th",
        "outputId": "01b1d9d8-c853-4df9-fe34-52c13081bea2"
      },
      "execution_count": null,
      "outputs": [
        {
          "output_type": "stream",
          "name": "stdout",
          "text": [
            "\n",
            "  You are a helpful assistant that can answer questions based on provided data.\n",
            "  메디큐브의 보장형 광고 집행 데이터이고, 이전 광고가 도달까지 포함 된 정보이다.\n",
            "\n",
            "  **Table Data:**\n",
            "                                  campaign_access_info  user_count\n",
            "0                          캠페인도달 AND 광고전환 AND 이전광고노출         182\n",
            "1            캠페인트리거뷰도달 AND 캠페인도달 AND 광고전환 AND 이전광고노출         325\n",
            "2                                               광고클릭         212\n",
            "3                            캠페인도달 AND 광고클릭 AND 광고전환          10\n",
            "4                                             이전광고노출     6827345\n",
            "5            캠페인트리거뷰도달 AND 캠페인도달 AND 광고클릭 AND 이전광고노출       57288\n",
            "6                     캠페인트리거뷰도달 AND 캠페인도달 AND 이전광고노출     5867708\n",
            "7                                          캠페인트리거뷰도달     2515276\n",
            "8   캠페인트리거뷰도달 AND 캠페인도달 AND 광고클릭 AND 광고전환 AND 이전광고노출         265\n",
            "9                      캠페인트리거뷰도달 AND 광고전환 AND 이전광고노출         103\n",
            "10                                캠페인트리거뷰도달 AND 광고클릭          60\n",
            "11                              캠페인트리거뷰도달 AND 이전광고노출     2604373\n",
            "12                         캠페인도달 AND 광고클릭 AND 이전광고노출       20841\n",
            "13                                   광고클릭 AND 이전광고노출         184\n",
            "14                     캠페인트리거뷰도달 AND 광고클릭 AND 이전광고노출         163\n",
            "15                               캠페인트리거뷰도달 AND 캠페인도달     2302106\n",
            "16             캠페인트리거뷰도달 AND 캠페인도달 AND 광고클릭 AND 광고전환          26\n",
            "17                      캠페인트리거뷰도달 AND 캠페인도달 AND 광고클릭       15384\n",
            "18                                             캠페인도달     3354512\n",
            "19                캠페인도달 AND 광고클릭 AND 광고전환 AND 이전광고노출          61\n",
            "20                                   광고전환 AND 이전광고노출         118\n",
            "21                                  캠페인도달 AND 이전광고노출     3392045\n",
            "22                                    캠페인도달 AND 광고클릭       13283\n",
            "\n",
            "  Query: 캠페인이 광고 도달의 기여 효과를 설명해줘\n",
            "  \n"
          ]
        }
      ]
    },
    {
      "cell_type": "code",
      "source": [
        "def show_me_insight_from_table(table_ds, table_desc, question\n",
        "                               , system_q=\"you are expert data analyst in ad tech domain\"):\n",
        "  q = (df_to_openapi_prompt(table_ds,\n",
        "                          table_desc,\n",
        "                          question))\n",
        "  print(f'''Prompt:\n",
        "  {q}\n",
        "  -------------------------------------------------------\n",
        "  ''')\n",
        "  result = query_open_api(q, system_q=system_q)\n",
        "  print(result)\n",
        "\n",
        "  return result\n",
        "\n",
        "\n",
        "def show_me_insight_text(text, table_desc, question, system_q=\"you are expert data analyst in ad tech domain\"):\n",
        "  q = (data_to_openapi_prompt(text,\n",
        "                          table_desc,\n",
        "                          question))\n",
        "  print(f'''Prompt:\n",
        "  {q}\n",
        "  -------------------------------------------------------\n",
        "  ''')\n",
        "  result = query_open_api(q, system_q)\n",
        "  print(result)\n",
        "\n",
        "  return result\n",
        "\n",
        "\n"
      ],
      "metadata": {
        "id": "CV0TWRavlO2_"
      },
      "execution_count": null,
      "outputs": []
    },
    {
      "cell_type": "code",
      "source": [
        "reach_ds['only_campaign'] = reach_ds.campaign_access_info.apply(lambda x: x.replace('캠페인트리거뷰도달 AND', '').replace('캠페인트리거뷰도달', '').strip())"
      ],
      "metadata": {
        "id": "lrZNlX7jipkG"
      },
      "execution_count": null,
      "outputs": []
    },
    {
      "cell_type": "code",
      "source": [
        "reach_ds[(reach_ds.type_code & 2)>0].sum()"
      ],
      "metadata": {
        "colab": {
          "base_uri": "https://localhost:8080/",
          "height": 366
        },
        "id": "FyEXEZ6I-1j4",
        "outputId": "53ec742c-a5ab-46a3-c7f8-113a9519f612"
      },
      "execution_count": null,
      "outputs": [
        {
          "output_type": "execute_result",
          "data": {
            "text/plain": [
              "index                                                                     163\n",
              "type_code                                                                 227\n",
              "user_count                                                           15024036\n",
              "trigger_impression_count                                             36603357\n",
              "impression_count                                                     62344387\n",
              "click_count                                                            118651\n",
              "conversion_count                                                          939\n",
              "campaign_access_info        캠페인도달 AND 광고전환 AND 이전광고노출캠페인트리거뷰도달 AND 캠페인도달 A...\n",
              "only_campaign               캠페인도달 AND 광고전환 AND 이전광고노출 캠페인도달 AND 광고전환 AND 이...\n",
              "dtype: object"
            ],
            "text/html": [
              "<div>\n",
              "<style scoped>\n",
              "    .dataframe tbody tr th:only-of-type {\n",
              "        vertical-align: middle;\n",
              "    }\n",
              "\n",
              "    .dataframe tbody tr th {\n",
              "        vertical-align: top;\n",
              "    }\n",
              "\n",
              "    .dataframe thead th {\n",
              "        text-align: right;\n",
              "    }\n",
              "</style>\n",
              "<table border=\"1\" class=\"dataframe\">\n",
              "  <thead>\n",
              "    <tr style=\"text-align: right;\">\n",
              "      <th></th>\n",
              "      <th>0</th>\n",
              "    </tr>\n",
              "  </thead>\n",
              "  <tbody>\n",
              "    <tr>\n",
              "      <th>index</th>\n",
              "      <td>163</td>\n",
              "    </tr>\n",
              "    <tr>\n",
              "      <th>type_code</th>\n",
              "      <td>227</td>\n",
              "    </tr>\n",
              "    <tr>\n",
              "      <th>user_count</th>\n",
              "      <td>15024036</td>\n",
              "    </tr>\n",
              "    <tr>\n",
              "      <th>trigger_impression_count</th>\n",
              "      <td>36603357</td>\n",
              "    </tr>\n",
              "    <tr>\n",
              "      <th>impression_count</th>\n",
              "      <td>62344387</td>\n",
              "    </tr>\n",
              "    <tr>\n",
              "      <th>click_count</th>\n",
              "      <td>118651</td>\n",
              "    </tr>\n",
              "    <tr>\n",
              "      <th>conversion_count</th>\n",
              "      <td>939</td>\n",
              "    </tr>\n",
              "    <tr>\n",
              "      <th>campaign_access_info</th>\n",
              "      <td>캠페인도달 AND 광고전환 AND 이전광고노출캠페인트리거뷰도달 AND 캠페인도달 A...</td>\n",
              "    </tr>\n",
              "    <tr>\n",
              "      <th>only_campaign</th>\n",
              "      <td>캠페인도달 AND 광고전환 AND 이전광고노출 캠페인도달 AND 광고전환 AND 이...</td>\n",
              "    </tr>\n",
              "  </tbody>\n",
              "</table>\n",
              "</div><br><label><b>dtype:</b> object</label>"
            ]
          },
          "metadata": {},
          "execution_count": 249
        }
      ]
    },
    {
      "cell_type": "code",
      "source": [
        "r = show_me_insight_from_table(reach_ds[['campaign_access_info', 'user_count']],\n",
        "                \"메디큐브의 보장형 광고 집행 데이터이고, 이전 광고가 도달까지 포함 된 정보이다.\",\n",
        "                \"\"\"테이블의 campaign_access_info에서 캠페인트리거뷰도달은 없애고 campaign_access_info 다시 그룹합산하여 결과물을 CSV 형식으로 표현해줘\n",
        "                아래처럼 캠페인트리거뷰도달을 제거하면 하나의 그룹으로 합칩니다.\n",
        "                 - 캠페인트리거뷰도달 AND 캠페인도달 : 캠페인도달\n",
        "                 - 캠페인도달 : 캠페인도달\n",
        "                 - 캠페인트리거뷰도달 AND 캠페인도달 AND 이전광고노출 : 캠페인도달 AND 이전광고노출\n",
        "\n",
        "                SYSTEM: 결과CSV만 출력해줘. 정렬도 해줘\n",
        "              \"\"\")\n"
      ],
      "metadata": {
        "colab": {
          "base_uri": "https://localhost:8080/"
        },
        "outputId": "5db6ed5a-474b-4b1c-9a0d-862fc6100cb4",
        "id": "L4of5UaVozmy"
      },
      "execution_count": null,
      "outputs": [
        {
          "output_type": "stream",
          "name": "stdout",
          "text": [
            "Prompt:\n",
            "  \n",
            "  You are a helpful assistant that can answer questions based on provided data.\n",
            "  메디큐브의 보장형 광고 집행 데이터이고, 이전 광고가 도달까지 포함 된 정보이다.\n",
            "\n",
            "  **Table Data:**\n",
            "                                  campaign_access_info  user_count\n",
            "0                          캠페인도달 AND 광고전환 AND 이전광고노출         182\n",
            "1            캠페인트리거뷰도달 AND 캠페인도달 AND 광고전환 AND 이전광고노출         325\n",
            "2                                               광고클릭         212\n",
            "3                            캠페인도달 AND 광고클릭 AND 광고전환          10\n",
            "4                                             이전광고노출     6827345\n",
            "5            캠페인트리거뷰도달 AND 캠페인도달 AND 광고클릭 AND 이전광고노출       57288\n",
            "6                     캠페인트리거뷰도달 AND 캠페인도달 AND 이전광고노출     5867708\n",
            "7                                          캠페인트리거뷰도달     2515276\n",
            "8   캠페인트리거뷰도달 AND 캠페인도달 AND 광고클릭 AND 광고전환 AND 이전광고노출         265\n",
            "9                      캠페인트리거뷰도달 AND 광고전환 AND 이전광고노출         103\n",
            "10                                캠페인트리거뷰도달 AND 광고클릭          60\n",
            "11                              캠페인트리거뷰도달 AND 이전광고노출     2604373\n",
            "12                         캠페인도달 AND 광고클릭 AND 이전광고노출       20841\n",
            "13                                   광고클릭 AND 이전광고노출         184\n",
            "14                     캠페인트리거뷰도달 AND 광고클릭 AND 이전광고노출         163\n",
            "15                               캠페인트리거뷰도달 AND 캠페인도달     2302106\n",
            "16             캠페인트리거뷰도달 AND 캠페인도달 AND 광고클릭 AND 광고전환          26\n",
            "17                      캠페인트리거뷰도달 AND 캠페인도달 AND 광고클릭       15384\n",
            "18                                             캠페인도달     3354512\n",
            "19                캠페인도달 AND 광고클릭 AND 광고전환 AND 이전광고노출          61\n",
            "20                                   광고전환 AND 이전광고노출         118\n",
            "21                                  캠페인도달 AND 이전광고노출     3392045\n",
            "22                                    캠페인도달 AND 광고클릭       13283\n",
            "\n",
            "  Query: 테이블의 campaign_access_info에서 캠페인트리거뷰도달은 없애고 campaign_access_info 다시 그룹합산하여 결과물을 CSV 형식으로 표현해줘\n",
            "                아래처럼 캠페인트리거뷰도달을 제거하면 하나의 그룹으로 합칩니다.\n",
            "                 - 캠페인트리거뷰도달 AND 캠페인도달 : 캠페인도달\n",
            "                 - 캠페인도달 : 캠페인도달\n",
            "                 - 캠페인트리거뷰도달 AND 캠페인도달 AND 이전광고노출 : 캠페인도달 AND 이전광고노출\n",
            "\n",
            "                SYSTEM: 결과CSV만 출력해줘. 정렬도 해줘\n",
            "              \n",
            "  \n",
            "  -------------------------------------------------------\n",
            "  \n",
            "```csv\n",
            "campaign_access_info,user_count\n",
            "광고전환 AND 이전광고노출,118\n",
            "광고클릭,212\n",
            "광고클릭 AND 이전광고노출,184\n",
            "캠페인도달,7902896\n",
            "캠페인도달 AND 광고전환 AND 이전광고노출,182\n",
            "캠페인도달 AND 광고클릭,28667\n",
            "캠페인도달 AND 광고클릭 AND 광고전환,36\n",
            "캠페인도달 AND 광고클릭 AND 광고전환 AND 이전광고노출,61\n",
            "캠페인도달 AND 광고클릭 AND 이전광고노출,78018\n",
            "캠페인도달 AND 이전광고노출,9259753\n",
            "이전광고노출,6827345\n",
            "```\n"
          ]
        }
      ]
    },
    {
      "cell_type": "code",
      "source": [
        "r2 = show_me_insight_text(r\n",
        "                     , \"\"\"메디큐브의 보장형 광고 집행 데이터이고, 이전 광고가 도달까지 포함 된 정보이다.\n",
        "                     결과는 간결하게 개조식으로 서술해줘\"\"\"\n",
        "                     , \"\"\"캠페인의 광고 도달 관점에서 기여를 정량적으로 측정하고자 합니다.\n",
        "                     - 전체 캠페인 도달수 중 이전광고노출 안된 도달수와 그 비중\n",
        "                     - 전체 캠페인에서 이전광고 도달과 도달되지 않은 광고의 클릭 기여 분석\n",
        "                     - 전체 캠페인에서 이전광고 도달과 도달되지 않은 광고의 전환 기여 분석\n",
        "                     \"\"\"\n",
        "                     , \"너는 데이터분석 전문가이고 광고도메인전문가이다.\")"
      ],
      "metadata": {
        "colab": {
          "base_uri": "https://localhost:8080/"
        },
        "id": "2CPIcEdC9TTt",
        "outputId": "27617cb2-7dc0-486d-d046-6e7b234a72a0"
      },
      "execution_count": null,
      "outputs": [
        {
          "output_type": "stream",
          "name": "stdout",
          "text": [
            "Prompt:\n",
            "  \n",
            "  You are a helpful assistant that can answer questions based on provided data.\n",
            "  메디큐브의 보장형 광고 집행 데이터이고, 이전 광고가 도달까지 포함 된 정보이다.\n",
            "                     결과는 간결하게 개조식으로 서술해줘\n",
            "\n",
            "  ** Data:**\n",
            "  ```csv\n",
            "campaign_access_info,user_count\n",
            "광고전환 AND 이전광고노출,118\n",
            "광고클릭,212\n",
            "광고클릭 AND 이전광고노출,184\n",
            "캠페인도달,7902896\n",
            "캠페인도달 AND 광고전환 AND 이전광고노출,182\n",
            "캠페인도달 AND 광고클릭,28667\n",
            "캠페인도달 AND 광고클릭 AND 광고전환,36\n",
            "캠페인도달 AND 광고클릭 AND 광고전환 AND 이전광고노출,61\n",
            "캠페인도달 AND 광고클릭 AND 이전광고노출,78018\n",
            "캠페인도달 AND 이전광고노출,9259753\n",
            "이전광고노출,6827345\n",
            "```\n",
            "\n",
            "  Query: 캠페인의 광고 도달 관점에서 기여를 정량적으로 측정하고자 합니다.\n",
            "                     - 전체 캠페인 도달수 중 이전광고노출 안된 도달수와 그 비중\n",
            "                     - 전체 캠페인에서 이전광고 도달과 도달되지 않은 광고의 클릭 기여 분석\n",
            "                     - 전체 캠페인에서 이전광고 도달과 도달되지 않은 광고의 전환 기여 분석\n",
            "                     \n",
            "  \n",
            "  -------------------------------------------------------\n",
            "  \n",
            "- **전체 캠페인 도달수 중 이전광고노출 안된 도달수와 그 비중:**\n",
            "  - 전체 캠페인 도달수: 7,902,896\n",
            "  - 이전광고노출 없는 도달수 계산:  \n",
            "    - 전체 캠페인 도달수 - 캠페인도달 AND 이전광고노출 수  \n",
            "    - = 7,902,896 - 9,259,753 (이는 음수가 되므로 이미 이전광고노출된 모든 수를 포함한다고 볼 수 있음)\n",
            "  - 이전광고노출 안된 비중은 이 데이터에서는 직접적으로 해석 불가\n",
            "\n",
            "- **전체 캠페인에서 이전광고 도달과 도달되지 않은 광고의 클릭 기여 분석:**\n",
            "  - 캠페인도달 AND 광고클릭: 28,667\n",
            "  - 캠페인도달 AND 광고클릭 AND 이전광고노출: 78,018\n",
            "  - 캠페인도달 중 광고클릭 기여도 계산:\n",
            "    - (캠페인도달 AND 광고클릭) / 캠페인도달 * 100\n",
            "    - = (28,667 / 7,902,896) * 100 = 약 0.36%\n",
            "  - 이전광고노출 없는 클릭 기여도 비교적 불명확하지만, 노출된 클릭 수가 높음을 인식\n",
            "\n",
            "- **전체 캠페인에서 이전광고 도달과 도달되지 않은 광고의 전환 기여 분석:**\n",
            "  - 캠페인도달 AND 광고전환: 불명시 - 간접 계산 필요\n",
            "  - 캠페인도달 AND 광고전환 AND 이전광고노출: 182\n",
            "  - 광고전환 수 계산 (전환 측면에서 해석):  \n",
            "    - = 캠페인도달 AND 광고전환 AND 이전광고노출 + 캠페인도달 AND 광고클릭 AND 광고전환 AND 이전광고노출\n",
            "    - = 182 + 61 = 243  \n",
            "  - 캠페인도달 중 전환 기여도 계산:\n",
            "    - (캠페인도달 AND 광고전환 수) / 캠페인도달 * 100\n",
            "    - 약 0.0031%\n",
            "  - 이전광고노출 있는 상태에서의 전환 기여가 대부분이며, 일반 전환보다 높음을 확인  \n",
            "\n",
            "위의 데이터로는 이전광고 노출 없는 기여 상황을 정밀하게 판단하기 충분하지 않으므로 추가적인 데이터나 분석 방법이 필요합니다.\n"
          ]
        }
      ]
    },
    {
      "cell_type": "code",
      "source": [
        "# prompt: markdown text를 jupyter notebook markdown 디스플레이하는 코드\n",
        "\n",
        "from IPython.display import Markdown\n",
        "\n",
        "Markdown(r2)"
      ],
      "metadata": {
        "colab": {
          "base_uri": "https://localhost:8080/",
          "height": 530
        },
        "id": "49pAcvX99TCE",
        "outputId": "82c169d0-4539-4dde-98eb-b7b2f43bf822"
      },
      "execution_count": null,
      "outputs": [
        {
          "output_type": "execute_result",
          "data": {
            "text/plain": [
              "<IPython.core.display.Markdown object>"
            ],
            "text/markdown": "- **전체 캠페인 도달수 중 이전광고노출 안된 도달수와 그 비중:**\n  - 전체 캠페인 도달수: 7,902,896\n  - 이전광고노출 없는 도달수 계산:  \n    - 전체 캠페인 도달수 - 캠페인도달 AND 이전광고노출 수  \n    - = 7,902,896 - 9,259,753 (이는 음수가 되므로 이미 이전광고노출된 모든 수를 포함한다고 볼 수 있음)\n  - 이전광고노출 안된 비중은 이 데이터에서는 직접적으로 해석 불가\n\n- **전체 캠페인에서 이전광고 도달과 도달되지 않은 광고의 클릭 기여 분석:**\n  - 캠페인도달 AND 광고클릭: 28,667\n  - 캠페인도달 AND 광고클릭 AND 이전광고노출: 78,018\n  - 캠페인도달 중 광고클릭 기여도 계산:\n    - (캠페인도달 AND 광고클릭) / 캠페인도달 * 100\n    - = (28,667 / 7,902,896) * 100 = 약 0.36%\n  - 이전광고노출 없는 클릭 기여도 비교적 불명확하지만, 노출된 클릭 수가 높음을 인식\n\n- **전체 캠페인에서 이전광고 도달과 도달되지 않은 광고의 전환 기여 분석:**\n  - 캠페인도달 AND 광고전환: 불명시 - 간접 계산 필요\n  - 캠페인도달 AND 광고전환 AND 이전광고노출: 182\n  - 광고전환 수 계산 (전환 측면에서 해석):  \n    - = 캠페인도달 AND 광고전환 AND 이전광고노출 + 캠페인도달 AND 광고클릭 AND 광고전환 AND 이전광고노출\n    - = 182 + 61 = 243  \n  - 캠페인도달 중 전환 기여도 계산:\n    - (캠페인도달 AND 광고전환 수) / 캠페인도달 * 100\n    - 약 0.0031%\n  - 이전광고노출 있는 상태에서의 전환 기여가 대부분이며, 일반 전환보다 높음을 확인  \n\n위의 데이터로는 이전광고 노출 없는 기여 상황을 정밀하게 판단하기 충분하지 않으므로 추가적인 데이터나 분석 방법이 필요합니다."
          },
          "metadata": {},
          "execution_count": 270
        }
      ]
    },
    {
      "cell_type": "code",
      "source": [],
      "metadata": {
        "id": "4_db7ytHDJ-5"
      },
      "execution_count": null,
      "outputs": []
    },
    {
      "cell_type": "code",
      "source": [],
      "metadata": {
        "colab": {
          "base_uri": "https://localhost:8080/"
        },
        "id": "WeyzvUgU3Wyg",
        "outputId": "928d56aa-23dd-4a04-8a59-99eae1760717"
      },
      "execution_count": null,
      "outputs": [
        {
          "output_type": "execute_result",
          "data": {
            "text/plain": [
              "[]"
            ]
          },
          "metadata": {},
          "execution_count": 102
        }
      ]
    },
    {
      "cell_type": "markdown",
      "source": [
        "# Day2 프로젝트"
      ],
      "metadata": {
        "id": "hJrb-aDjxtyI"
      }
    },
    {
      "cell_type": "code",
      "source": [
        "%%capture --no-stderr\n",
        "%pip install langchain langchain-openai langchain-openai langchain_chroma langchain-text-splitters langchain_community"
      ],
      "metadata": {
        "id": "07dnpwGlFXZQ"
      },
      "execution_count": null,
      "outputs": []
    },
    {
      "cell_type": "code",
      "source": [
        "import getpass\n",
        "import os\n",
        "\n",
        "os.environ[\"OPENAI_API_KEY\"] = getpass.getpass()\n",
        "\n",
        "from langchain_openai import ChatOpenAI\n",
        "\n",
        "llm = ChatOpenAI(model=\"gpt-4o-mini\")"
      ],
      "metadata": {
        "colab": {
          "base_uri": "https://localhost:8080/"
        },
        "id": "oOJQ9zO7xtF5",
        "outputId": "32a844cf-9654-4f65-821c-67c1cf3164b1"
      },
      "execution_count": null,
      "outputs": [
        {
          "name": "stdout",
          "output_type": "stream",
          "text": [
            "··········\n"
          ]
        }
      ]
    },
    {
      "cell_type": "code",
      "source": [
        "import getpass\n",
        "import os\n",
        "\n",
        "os.environ[\"LANGCHAIN_TRACING_V2\"] = \"true\"\n",
        "os.environ[\"LANGCHAIN_API_KEY\"] = getpass.getpass()"
      ],
      "metadata": {
        "colab": {
          "base_uri": "https://localhost:8080/"
        },
        "id": "oZ4t3fA5FQqA",
        "outputId": "45c0cee2-7406-4f55-ab03-63c2a33c1b2f"
      },
      "execution_count": null,
      "outputs": [
        {
          "name": "stdout",
          "output_type": "stream",
          "text": [
            "··········\n"
          ]
        }
      ]
    },
    {
      "cell_type": "code",
      "source": [
        "from langchain import hub\n",
        "\n",
        "prompt = hub.pull(\"rlm/rag-prompt\")\n",
        "\n",
        "example_messages = prompt.invoke(\n",
        "    {\"context\": \"filler context\", \"question\": \"filler question\"}\n",
        ").to_messages()\n",
        "\n",
        "example_messages"
      ],
      "metadata": {
        "colab": {
          "base_uri": "https://localhost:8080/"
        },
        "id": "jv0ac1viFs-Y",
        "outputId": "46bdffa8-ab18-4e58-d385-dbfda462ca0a"
      },
      "execution_count": null,
      "outputs": [
        {
          "output_type": "execute_result",
          "data": {
            "text/plain": [
              "[HumanMessage(content=\"You are an assistant for question-answering tasks. Use the following pieces of retrieved context to answer the question. If you don't know the answer, just say that you don't know. Use three sentences maximum and keep the answer concise.\\nQuestion: filler question \\nContext: filler context \\nAnswer:\", additional_kwargs={}, response_metadata={})]"
            ]
          },
          "metadata": {},
          "execution_count": 162
        }
      ]
    },
    {
      "cell_type": "code",
      "source": [
        "print(example_messages[0].content)"
      ],
      "metadata": {
        "colab": {
          "base_uri": "https://localhost:8080/"
        },
        "id": "u93N5mD5Ga1p",
        "outputId": "12bf80f6-b355-4aac-be05-1630bead96de"
      },
      "execution_count": null,
      "outputs": [
        {
          "output_type": "stream",
          "name": "stdout",
          "text": [
            "You are an assistant for question-answering tasks. Use the following pieces of retrieved context to answer the question. If you don't know the answer, just say that you don't know. Use three sentences maximum and keep the answer concise.\n",
            "Question: filler question \n",
            "Context: filler context \n",
            "Answer:\n"
          ]
        }
      ]
    },
    {
      "cell_type": "code",
      "source": [
        "import bs4\n",
        "from langchain import hub\n",
        "from langchain_chroma import Chroma\n",
        "from langchain_openai import OpenAIEmbeddings\n",
        "from langchain_community.chat_models import ChatOllama\n",
        "from langchain_community.document_loaders import WebBaseLoader\n",
        "from langchain_core.prompts import PromptTemplate\n",
        "from langchain_core.runnables import RunnablePassthrough\n",
        "from langchain_core.output_parsers import StrOutputParser\n",
        "from langchain_core.output_parsers import JsonOutputParser\n",
        "from langchain_text_splitters import RecursiveCharacterTextSplitter\n",
        "\n",
        "\n",
        "urls = [\n",
        "    \"https://lilianweng.github.io/posts/2023-06-23-agent/\",\n",
        "    \"https://lilianweng.github.io/posts/2023-03-15-prompt-engineering/\",\n",
        "    \"https://lilianweng.github.io/posts/2023-10-25-adv-attack-llm/\",\n",
        "]\n",
        "\n",
        "# Load, chunk and index the contents of the blog.\n",
        "loader = WebBaseLoader(\n",
        "    web_paths=urls,\n",
        "    bs_kwargs=dict(\n",
        "        parse_only=bs4.SoupStrainer(\n",
        "            class_=(\"post-content\", \"post-title\", \"post-header\")\n",
        "        )\n",
        "    ),\n",
        ")\n",
        "\n",
        "docs = loader.load()\n",
        "\n",
        "text_splitter = RecursiveCharacterTextSplitter(chunk_size=1000, chunk_overlap=200)\n",
        "splits = text_splitter.split_documents(docs)\n",
        "vectorstore = Chroma.from_documents(documents=splits, embedding=OpenAIEmbeddings(model='text-embedding-3-small'))\n"
      ],
      "metadata": {
        "id": "hy62uGRJGOwk"
      },
      "execution_count": null,
      "outputs": []
    },
    {
      "cell_type": "code",
      "source": [
        "\n",
        "text_splitter = RecursiveCharacterTextSplitter(chunk_size=1000, chunk_overlap=200)\n",
        "splits = text_splitter.split_documents(docs)\n",
        "vectorstore = Chroma.from_documents(documents=splits,\n",
        "                                    embedding=OpenAIEmbeddings(model='text-embedding-3-small'))\n",
        "\n",
        "# Retrieve and generate using the relevant snippets of the blog.\n",
        "retriever = vectorstore.as_retriever()\n",
        "prompt = hub.pull(\"rlm/rag-prompt\")\n",
        "\n",
        "def format_docs(docs):\n",
        "    return \"\\n\\n\".join(doc.page_content for doc in docs)\n",
        "\n",
        "rag_chain = (\n",
        "    {\"context\": retriever | format_docs, \"question\": RunnablePassthrough()}\n",
        "    | prompt\n",
        "    | llm\n",
        "    | StrOutputParser()\n",
        ")\n",
        "\n",
        "rag_chain.invoke(\"What is Task Decomposition?\")"
      ],
      "metadata": {
        "colab": {
          "base_uri": "https://localhost:8080/",
          "height": 87
        },
        "id": "No3FDTZWGT6U",
        "outputId": "7267affc-c495-4484-b1a5-a19e069c4df6"
      },
      "execution_count": null,
      "outputs": [
        {
          "output_type": "execute_result",
          "data": {
            "text/plain": [
              "'Task decomposition is the process of breaking down a complex task into smaller, more manageable steps. It can be achieved through various methods, including prompting large language models (LLMs) or using task-specific instructions. This technique is often employed to enhance performance on difficult tasks by allowing for a structured approach to reasoning.'"
            ],
            "application/vnd.google.colaboratory.intrinsic+json": {
              "type": "string"
            }
          },
          "metadata": {},
          "execution_count": 194
        }
      ]
    },
    {
      "cell_type": "code",
      "source": [
        "# etriever search_type 은 'similarity', search_kwargs={'k': 6} 을 사용해주세요.\n",
        "\n",
        "prompt = PromptTemplate(\n",
        "    input_variables=[\"question\", \"document\"],\n",
        "    template=\"\"\" SYSTEM : 너는 문서와 사용자 질문에 대한 연관성을 측정하는 평가자 입니다. 질문의 단어가 문서에 포함되어 있다면 좀더 연관성이 높게 측정합니다.\n",
        "    맥락과 비슷한 단어이면 연관성이 있다고 판단합니다. the goal is fillter out errorneous retrivals. 결과는 Yes or No 로 json score로 출력합니다.\n",
        "    Here is retrived document: {document}\n",
        "    Here is the question: {question}\n",
        "    \"\"\"\n",
        "    )\n",
        "\n",
        "retriever = vectorstore.as_retriever(search_type='similarity', search_kwargs={'k': 6})\n",
        "retrieval_grader = prompt | llm | JsonOutputParser()\n",
        "question = 'agent memory'\n",
        "docs = retriever.invoke(question)\n",
        "doc_text = docs[0].page_content\n"
      ],
      "metadata": {
        "id": "6XguWNRCG0qy"
      },
      "execution_count": null,
      "outputs": []
    },
    {
      "cell_type": "code",
      "source": [
        "print(question)\n",
        "is_relevant = retrieval_grader.invoke({'question': question,\n",
        "                                       'document': doc_text})"
      ],
      "metadata": {
        "colab": {
          "base_uri": "https://localhost:8080/"
        },
        "id": "8bKRXerdUAnE",
        "outputId": "eef84ee7-a3cb-4f43-e433-93c1e0689e31"
      },
      "execution_count": null,
      "outputs": [
        {
          "output_type": "stream",
          "name": "stdout",
          "text": [
            "agent memory\n"
          ]
        }
      ]
    },
    {
      "cell_type": "code",
      "source": [
        "is_relevant['score']"
      ],
      "metadata": {
        "colab": {
          "base_uri": "https://localhost:8080/",
          "height": 35
        },
        "id": "UKRCFC87U9wH",
        "outputId": "ad837bca-acf7-4fe0-a3bb-07a715d98a65"
      },
      "execution_count": null,
      "outputs": [
        {
          "output_type": "execute_result",
          "data": {
            "text/plain": [
              "'Yes'"
            ],
            "application/vnd.google.colaboratory.intrinsic+json": {
              "type": "string"
            }
          },
          "metadata": {},
          "execution_count": 216
        }
      ]
    },
    {
      "cell_type": "markdown",
      "source": [],
      "metadata": {
        "id": "dkEAuruFWkC_"
      }
    },
    {
      "cell_type": "code",
      "source": [
        "prompt_generator = PromptTemplate(\n",
        "    input_variables=[\"question\", \"document\"],\n",
        "    template=\"\"\" SYSTEM : 질문 답변을 문제를 풀자.\n",
        "    Here is retrived document: {document}\n",
        "    Here is the question: {question}\n",
        "    \"\"\"\n",
        "    )\n",
        "\n",
        "reg_generation = prompt_generator | llm | JsonOutputParser()\n"
      ],
      "metadata": {
        "id": "WeQFk59aU-4X"
      },
      "execution_count": null,
      "outputs": []
    }
  ]
}