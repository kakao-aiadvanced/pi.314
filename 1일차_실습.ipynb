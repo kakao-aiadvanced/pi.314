{
  "nbformat": 4,
  "nbformat_minor": 0,
  "metadata": {
    "colab": {
      "provenance": []
    },
    "kernelspec": {
      "name": "python3",
      "display_name": "Python 3"
    },
    "language_info": {
      "name": "python"
    }
  },
  "cells": [
    {
      "cell_type": "code",
      "source": [
        "from openai import OpenAI\n",
        "from google.colab import userdata\n",
        "\n",
        "OPENAI_API_KEY=userdata.get('openapi_key')\n",
        "\n",
        "\n",
        "\n",
        "\n",
        "client = OpenAI(api_key=OPENAI_API_KEY)\n",
        "completion = client.chat.completions.create(\n",
        "    model=\"gpt-4o\",\n",
        "    messages=[\n",
        "        {\"role\": \"system\", \"content\": \"You are a helpful assistant.\"},\n",
        "        {\n",
        "            \"role\": \"user\",\n",
        "            \"content\": \"\"\"\n",
        "            \"\"\"\n",
        "        }\n",
        "    ]\n",
        ")\n",
        "\n",
        "print(completion.choices[0].message)"
      ],
      "metadata": {
        "colab": {
          "base_uri": "https://localhost:8080/"
        },
        "id": "XmI4mR4-Vyof",
        "outputId": "62946755-64ce-449a-f4c6-6baef3f33c23"
      },
      "execution_count": 5,
      "outputs": [
        {
          "output_type": "stream",
          "name": "stdout",
          "text": [
            "ChatCompletionMessage(content='Hello! How can I assist you today?', refusal=None, role='assistant', annotations=[], audio=None, function_call=None, tool_calls=None)\n"
          ]
        }
      ]
    },
    {
      "cell_type": "markdown",
      "source": [],
      "metadata": {
        "id": "tPJEmDFadErl"
      }
    },
    {
      "cell_type": "code",
      "source": [
        "def query_open_api(user_q, system_q='You are a helpful assistant.'):\n",
        "  client = OpenAI(api_key=OPENAI_API_KEY)\n",
        "  completion = client.chat.completions.create(\n",
        "    model=\"gpt-4o\",\n",
        "    messages=[\n",
        "        {\"role\": \"system\", \"content\": system_q},\n",
        "        {\n",
        "            \"role\": \"user\",\n",
        "            \"content\": user_q\n",
        "        }\n",
        "    ]\n",
        "  )\n",
        "  return completion.choices[0].message.content\n"
      ],
      "metadata": {
        "id": "Zl2Hk8aSf0sg"
      },
      "execution_count": null,
      "outputs": []
    },
    {
      "cell_type": "code",
      "source": [
        "print(query_open_api('''\n",
        "translate dog and explain reason\n",
        "예를 들어\n",
        "  1. water : 불\n",
        "  2. mother : 아버지\n",
        "  3. sky : 땅\n",
        "  4. white : 검정\n",
        "  5. square : 원\n",
        "\n",
        "'''))\n"
      ],
      "metadata": {
        "id": "5P3eQAEwY_kQ",
        "colab": {
          "base_uri": "https://localhost:8080/"
        },
        "outputId": "fcdafe25-81ef-4acf-bfc1-7073a16c1a33"
      },
      "execution_count": null,
      "outputs": [
        {
          "output_type": "stream",
          "name": "stdout",
          "text": [
            "The examples you've given show pairs of words that are antonyms or have some opposite relationship. Let's look at each:\n",
            "\n",
            "1. \"water : 불\" - \"water\" (물) and \"불\" (fire) are often considered opposites.\n",
            "2. \"mother : 아버지\" - \"mother\" (어머니) and \"아버지\" (father) are opposites in terms of parental roles.\n",
            "3. \"sky : 땅\" - \"sky\" (하늘) and \"땅\" (earth or ground) are opposites in terms of vertical space, with the sky being above and the ground below.\n",
            "4. \"white : 검정\" - \"white\" (하얀색) and \"검정\" (black) are opposites in terms of color.\n",
            "5. \"square : 원\" - \"square\" (사각형) and \"원\" (circle) are opposites in the context of geometry, as they are different basic shapes.\n",
            "\n",
            "To continue this pattern with the word \"dog\" (개), we should consider its opposite. In this context, a dog might be contrasted with its traditional \"opposite\" or counterpart animal, which could be a \"cat\" (고양이), as these two are often considered contrasting pets or animals. Thus, in your example style:\n",
            "\n",
            "6. \"dog : 고양이\" - \"dog\" (개) and \"고양이\" (cat) are often seen as opposites due to their different behavior and cultural roles in many societies.\n"
          ]
        }
      ]
    },
    {
      "cell_type": "code",
      "source": [
        "print(query_open_api('''\n",
        "evaluate moviee review positive(+) or nagative(-) and explain why\n",
        "\n",
        " The storyline was dull and uninspiring\n",
        "\n",
        "예:\n",
        "  my best movie i've ever seen : +\n",
        "  time is waste : -\n",
        "  boring, trash, horrible : -\n",
        "  storyline is dynamic, exciting  : +\n",
        "  storyline is very short and unknown : -\n",
        "\n",
        "'''))\n"
      ],
      "metadata": {
        "colab": {
          "base_uri": "https://localhost:8080/"
        },
        "id": "YpWmBU0Ib5Xo",
        "outputId": "d2251fbe-712f-4f8f-e5c1-73f8998b66ed"
      },
      "execution_count": null,
      "outputs": [
        {
          "output_type": "stream",
          "name": "stdout",
          "text": [
            "The review \"The storyline was dull and uninspiring\" is negative (-).\n",
            "\n",
            "Explanation: The words \"dull\" and \"uninspiring\" suggest that the reviewer found the storyline to be lacking in interest, excitement, or originality. These are generally negative attributes when describing a movie, indicating that the review is negative.\n"
          ]
        }
      ]
    },
    {
      "cell_type": "code",
      "source": [
        "print(query_open_api('''\n",
        "evaluate moviee review positive(+) or nagative(-) and explain why\n",
        "\n",
        " The storyline was dull and uninspiring\n",
        "\n",
        "예:\n",
        "  my best movie i've ever seen : +\n",
        "  time is waste : -\n",
        "  boring, trash, horrible : -\n",
        "  storyline is dynamic, exciting  : +\n",
        "  storyline is very short and unknown : -\n",
        "\n",
        "'''))\n"
      ],
      "metadata": {
        "id": "fJatXL4SlVb4"
      },
      "execution_count": null,
      "outputs": []
    },
    {
      "cell_type": "code",
      "source": [],
      "metadata": {
        "id": "vNF15BCOlCu_"
      },
      "execution_count": null,
      "outputs": []
    }
  ]
}